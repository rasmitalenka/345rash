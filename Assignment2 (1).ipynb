{
 "cells": [
  {
   "cell_type": "raw",
   "id": "60d1a494",
   "metadata": {},
   "source": [
    "1.What are the two values of the Boolean data type? How do you write them?\n",
    "\n",
    "Ans:The two data types are true and false.The value '1' represents a true condition and '0' represents a false condition."
   ]
  },
  {
   "cell_type": "code",
   "execution_count": 1,
   "id": "08a7d073",
   "metadata": {},
   "outputs": [
    {
     "name": "stdout",
     "output_type": "stream",
     "text": [
      "True\n",
      "False\n"
     ]
    }
   ],
   "source": [
    "#Return True as x is equal to y\n",
    "x=5\n",
    "y=5\n",
    "print(bool(x==y))\n",
    "#Return False as x is not equal to y\n",
    "x=5\n",
    "y=6\n",
    "print(bool(x==y))\n"
   ]
  },
  {
   "cell_type": "raw",
   "id": "66fcbf0a",
   "metadata": {},
   "source": [
    "2. What are the three different types of Boolean operators?\n",
    "\n",
    "Ans: The three different types of bolean operators are and,or and not.\n"
   ]
  },
  {
   "cell_type": "raw",
   "id": "31e1fbad",
   "metadata": {},
   "source": [
    "3. Make a list of each Boolean operator's truth tables (i.e. every possible combination of Boolean values for the operator and what it evaluate ).\n",
    "\n",
    "Ans:The and operators compares two expression then returns a true value if both expression are true.\n",
    "\n",
    "   Truth Table of AND operator\n",
    "   A B Output\n",
    "   0 0 0\n",
    "   0 1 0\n",
    "   1 0 0\n",
    "   1 1 1\n",
    "   \n",
    "   The or operators compares two expression then returns a true value if either \n",
    "   expression and both expression are true.\n",
    "   \n",
    "   Truth Table of OR operator\n",
    "   A B Output\n",
    "   0 0 0\n",
    "   0 1 1\n",
    "   1 0 1\n",
    "   1 1 1\n",
    "   \n",
    "   The not operators switches true to false and false to true.\n",
    "   \n",
    "   Truth Table of NOT operator\n",
    "   A  Output\n",
    "   0   1\n",
    "   1   0"
   ]
  },
  {
   "cell_type": "raw",
   "id": "354fb6fe",
   "metadata": {},
   "source": [
    "4. What are the values of the following expressions?\n",
    "(5 > 4) and (3 == 5)\n",
    "not (5 > 4)\n",
    "(5 > 4) or (3 == 5)\n",
    "not ((5 > 4) or (3 == 5))\n",
    "(True and True) and (True == False)\n",
    "(not False) or (not True)\n",
    "\n"
   ]
  },
  {
   "cell_type": "code",
   "execution_count": 2,
   "id": "417b1cb7",
   "metadata": {},
   "outputs": [
    {
     "name": "stdout",
     "output_type": "stream",
     "text": [
      "False\n",
      "False\n",
      "True\n",
      "False\n",
      "False\n",
      "True\n"
     ]
    }
   ],
   "source": [
    "print((5>4) and (3==5))\n",
    "print(not (5>4))\n",
    "print((5>4) or (3==5))\n",
    "print(not ((5>4) or (3==5)))\n",
    "print((True and True) and (True==False))\n",
    "print((not False) or (not True))"
   ]
  },
  {
   "cell_type": "raw",
   "id": "d63bd75e",
   "metadata": {},
   "source": [
    "5. What are the six comparison operators?\n",
    "\n",
    "Ans:The six comparison operators are ==,!=,<,>,<=,and >=."
   ]
  },
  {
   "cell_type": "raw",
   "id": "1ec2a483",
   "metadata": {},
   "source": [
    "6. How do you tell the difference between the equal to and assignment operators?Describe a condition and when you would use one.\n",
    "\n",
    "Ans:In python programming,'=' is an assignment operator used to assigning the value to a variable ,while '==' is an equal to operator that used for comparing\n",
    "two values then evaluates to a Boolean."
   ]
  },
  {
   "cell_type": "code",
   "execution_count": 3,
   "id": "3b7f318a",
   "metadata": {},
   "outputs": [
    {
     "name": "stdout",
     "output_type": "stream",
     "text": [
      "7\n",
      "True\n"
     ]
    }
   ],
   "source": [
    "# Assignment operator\n",
    "a=7\n",
    "print(a)\n",
    "#Equal to operator\n",
    "if (a==7):\n",
    "    print(\"True\")\n",
    "else:\n",
    "    print(\"False\")\n",
    "    "
   ]
  },
  {
   "cell_type": "raw",
   "id": "42ab6419",
   "metadata": {},
   "source": [
    "7. Identify the three blocks in this code:\n",
    "spam = 0\n",
    "if spam == 10:\n",
    "print('eggs')\n",
    "if spam > 5:\n",
    "print('bacon')\n",
    "else:\n",
    "print('ham')\n",
    "print('spam')\n",
    "print('spam')\n"
   ]
  },
  {
   "cell_type": "code",
   "execution_count": 9,
   "id": "679519b7",
   "metadata": {},
   "outputs": [
    {
     "name": "stdout",
     "output_type": "stream",
     "text": [
      "ham\n",
      "spam\n",
      "spam\n"
     ]
    }
   ],
   "source": [
    "spam = 0\n",
    "if spam == 10:\n",
    "    print('eggs')\n",
    "    if spam > 5:\n",
    "        print('bacon')\n",
    "else:\n",
    "    print('ham')\n",
    "    print('spam')\n",
    "    print('spam')"
   ]
  },
  {
   "cell_type": "raw",
   "id": "95abdc2d",
   "metadata": {},
   "source": [
    "8. Write code that prints Hello if 1 is stored in spam, prints Howdy if 2 is stored in spam, and prints Greetings! if anything else is stored in spam."
   ]
  },
  {
   "cell_type": "code",
   "execution_count": 4,
   "id": "3b04ecdd",
   "metadata": {},
   "outputs": [
    {
     "name": "stdout",
     "output_type": "stream",
     "text": [
      "2\n",
      "Howdy\n"
     ]
    }
   ],
   "source": [
    "spam=int(input())\n",
    "if spam==1:\n",
    "    print(\"Hello\")\n",
    "elif spam==2:    \n",
    "        print(\"Howdy\")\n",
    "else:\n",
    "    print(\"Greetings\")"
   ]
  },
  {
   "cell_type": "raw",
   "id": "1723fae8",
   "metadata": {},
   "source": [
    "9.If your programme is stuck in an endless loop, what keys you’ll press?\n",
    "Ans:ctrl+c"
   ]
  },
  {
   "cell_type": "raw",
   "id": "5f43a0b6",
   "metadata": {},
   "source": [
    "10. How can you tell the difference between break and continue?\n",
    "\n",
    "Ans:In break statement ,the control exits from the loop and used to stop the execution of the loop at a specific condition.But in case of continue the control remains within the loop and used to skip a particular iteration of the loop."
   ]
  },
  {
   "cell_type": "code",
   "execution_count": 11,
   "id": "01bbaab4",
   "metadata": {},
   "outputs": [
    {
     "name": "stdout",
     "output_type": "stream",
     "text": [
      "1\n",
      "2\n",
      "1\n",
      "2\n",
      "4\n",
      "5\n"
     ]
    }
   ],
   "source": [
    "# Using break \n",
    "l=[1,2,3,4,5]\n",
    "for i in l:\n",
    "    if i==3:\n",
    "        break\n",
    "    print(i) \n",
    "    \n",
    "#Using continue\n",
    "for i in l:\n",
    "    if i==3:\n",
    "        continue\n",
    "    print(i)"
   ]
  },
  {
   "cell_type": "raw",
   "id": "31328b5a",
   "metadata": {},
   "source": [
    "11. In a for loop, what is the difference between range(10), range(0, 10), and range(0, 10, 1)?\n",
    "\n",
    "Ans:1. The user call range(10)with one argument, in case the user only decide where the  series are stop the range 0 to 9(but not include10) and its automatically start at 0 . \n",
    "\n",
    "2. The user call range(0,10)with two arguments,the user decide where the series start and also stop i,e start at 0 and stop at 10 not including 10.\n",
    "\n",
    "3. In case range(0,10,1),the user decide where the series are start and stop and also big difference between one number and the next.\n"
   ]
  },
  {
   "cell_type": "raw",
   "id": "77dd458e",
   "metadata": {},
   "source": [
    "12. Write a short program that prints the numbers 1 to 10 using a for loop. Then write an equivalent program that prints the numbers 1 to 10 using a while loop.    "
   ]
  },
  {
   "cell_type": "code",
   "execution_count": 6,
   "id": "b83810e9",
   "metadata": {},
   "outputs": [
    {
     "name": "stdout",
     "output_type": "stream",
     "text": [
      "1 2 3 4 5 6 7 8 9 10 \n",
      "1 2 3 4 5 6 7 8 9 10 "
     ]
    }
   ],
   "source": [
    "for i in range(1,11): # Using for loop\n",
    "    print(i,end=\" \")\n",
    "print()    \n",
    "\n",
    "#  Using while loop\n",
    "i=1\n",
    "while i<=10:\n",
    "    print(i,end=\" \")\n",
    "    i+=1"
   ]
  },
  {
   "cell_type": "raw",
   "id": "c063f156",
   "metadata": {},
   "source": [
    "13. If you had a function named bacon() inside a module named spam, how would you call it after importing spam?\n",
    "\n",
    "Ans:spam.bacon()"
   ]
  }
 ],
 "metadata": {
  "kernelspec": {
   "display_name": "Python 3 (ipykernel)",
   "language": "python",
   "name": "python3"
  },
  "language_info": {
   "codemirror_mode": {
    "name": "ipython",
    "version": 3
   },
   "file_extension": ".py",
   "mimetype": "text/x-python",
   "name": "python",
   "nbconvert_exporter": "python",
   "pygments_lexer": "ipython3",
   "version": "3.10.9"
  }
 },
 "nbformat": 4,
 "nbformat_minor": 5
}
