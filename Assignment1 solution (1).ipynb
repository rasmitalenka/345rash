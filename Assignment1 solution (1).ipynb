{
 "cells": [
  {
   "cell_type": "code",
   "execution_count": null,
   "id": "0528623e",
   "metadata": {},
   "outputs": [],
   "source": [
    "1. In the below elements which of them are values or an expression? eg:- values can be integer or string and expressions will be mathematical operators.\n",
    "* :expression\n",
    "'hello':value\n",
    "-87.8:value\n",
    "-:expression \n",
    "/:expression \n",
    "+ :expression\n",
    "6 :value\n",
    "\n"
   ]
  },
  {
   "cell_type": "code",
   "execution_count": null,
   "id": "2741c112",
   "metadata": {},
   "outputs": [],
   "source": [
    "2. What is the difference between string and variable?\n",
    "\n",
    "Ans:A variable is a kind of entity where  we able to store a data which process a runtime and variable holds strings types \n",
    "    data types.\n",
    "    Strings together group of  character .\n",
    "    eg:-g=\"rasmi\"('g'is the variable and 'rasmi' is string types data types )\n",
    "    "
   ]
  },
  {
   "cell_type": "code",
   "execution_count": null,
   "id": "b1043453",
   "metadata": {},
   "outputs": [],
   "source": [
    "3. Describe three different data types\n",
    " Ans: The three different types data types are :-\n",
    "            1.Numerical data types\n",
    "            2.sequential data types\n",
    "            3.Dictionary data types"
   ]
  },
  {
   "cell_type": "code",
   "execution_count": 11,
   "id": "c2e68fd7",
   "metadata": {},
   "outputs": [],
   "source": [
    "#Example for numerical data types\n",
    "e=65\n",
    "#Example for sequential data types\n",
    "string=\"rekha\"\n",
    "#Example for dictionary data types\n",
    "d={'name':'john','age':'23','dept':'sales'}"
   ]
  },
  {
   "cell_type": "code",
   "execution_count": 12,
   "id": "6a87d942",
   "metadata": {
    "scrolled": true
   },
   "outputs": [
    {
     "name": "stdout",
     "output_type": "stream",
     "text": [
      "65\n",
      "rekha\n",
      "{'name': 'john', 'age': '23', 'dept': 'sales'}\n"
     ]
    }
   ],
   "source": [
    "print(e)\n",
    "print(string)\n",
    "print(d)"
   ]
  },
  {
   "cell_type": "code",
   "execution_count": null,
   "id": "3194f273",
   "metadata": {},
   "outputs": [],
   "source": [
    "4. What is an expression made up of? What do all expressions do?\n",
    "Ans:Expression made up of operators and operands .If any programming language its evaluated as perthe precedence of its \n",
    "    operators."
   ]
  },
  {
   "cell_type": "markdown",
   "id": "7b93442d",
   "metadata": {},
   "source": [
    "45+67-90\n"
   ]
  },
  {
   "cell_type": "code",
   "execution_count": 37,
   "id": "a23305f1",
   "metadata": {},
   "outputs": [
    {
     "name": "stdout",
     "output_type": "stream",
     "text": [
      "22\n"
     ]
    }
   ],
   "source": [
    "print(45+67-90)"
   ]
  },
  {
   "cell_type": "code",
   "execution_count": null,
   "id": "60718a11",
   "metadata": {},
   "outputs": [],
   "source": [
    "5. This assignment statements, like spam = 10. What is the difference between an expression and a statement?\n",
    "Ans:An expression evaluates to a single value but statement does't.An expressions are  part of statements."
   ]
  },
  {
   "cell_type": "code",
   "execution_count": null,
   "id": "e5d6549c",
   "metadata": {},
   "outputs": [],
   "source": [
    "6. After running the following code, what does the variable bacon contain?\n",
    "bacon = 22\n",
    "bacon + 1\n"
   ]
  },
  {
   "cell_type": "code",
   "execution_count": 14,
   "id": "a6eb54ba",
   "metadata": {},
   "outputs": [
    {
     "name": "stdout",
     "output_type": "stream",
     "text": [
      "22\n"
     ]
    }
   ],
   "source": [
    "print(bacon)"
   ]
  },
  {
   "cell_type": "code",
   "execution_count": null,
   "id": "d7bc93a1",
   "metadata": {},
   "outputs": [],
   "source": [
    "7. What should the values of the following two terms be?\n",
    "'spam' + 'spamspam'\n",
    "'spam' * 3\n"
   ]
  },
  {
   "cell_type": "code",
   "execution_count": 16,
   "id": "2e427712",
   "metadata": {},
   "outputs": [
    {
     "name": "stdout",
     "output_type": "stream",
     "text": [
      "spamspamspam\n",
      "spamspamspam\n"
     ]
    }
   ],
   "source": [
    "print('spam' + 'spamspam')\n",
    "print('spam'* 3)"
   ]
  },
  {
   "cell_type": "code",
   "execution_count": null,
   "id": "2a8c663a",
   "metadata": {},
   "outputs": [],
   "source": [
    "8. Why is eggs a valid variable name while 100 is invalid?\n",
    "Ans: The eggs are the character that why this valid but 100 is a number ,variable name can't begin with number.\n"
   ]
  },
  {
   "cell_type": "code",
   "execution_count": 6,
   "id": "49210e92",
   "metadata": {},
   "outputs": [
    {
     "ename": "SyntaxError",
     "evalue": "cannot assign to literal here. Maybe you meant '==' instead of '='? (2122393366.py, line 2)",
     "output_type": "error",
     "traceback": [
      "\u001b[1;36m  Cell \u001b[1;32mIn[6], line 2\u001b[1;36m\u001b[0m\n\u001b[1;33m    100=\"spam\"\u001b[0m\n\u001b[1;37m    ^\u001b[0m\n\u001b[1;31mSyntaxError\u001b[0m\u001b[1;31m:\u001b[0m cannot assign to literal here. Maybe you meant '==' instead of '='?\n"
     ]
    }
   ],
   "source": [
    "egg=\"spam\"\n",
    "100=\"spam\""
   ]
  },
  {
   "cell_type": "code",
   "execution_count": null,
   "id": "143d527e",
   "metadata": {},
   "outputs": [],
   "source": [
    "9. What three functions can be used to get the integer, floating-point number, or string version of a value?\n",
    "Ans:The int(),float(),and str()functions evaluate to the integer,floating-point number,and string versions of the value\n",
    "    passed to them."
   ]
  },
  {
   "cell_type": "code",
   "execution_count": 9,
   "id": "4bf568a5",
   "metadata": {},
   "outputs": [
    {
     "ename": "SyntaxError",
     "evalue": "invalid syntax (2576800081.py, line 4)",
     "output_type": "error",
     "traceback": [
      "\u001b[1;36m  Cell \u001b[1;32mIn[9], line 4\u001b[1;36m\u001b[0m\n\u001b[1;33m    Ans:The expression causes an error because 99 is an integer number and string can be concatenated to other string with +operator.\u001b[0m\n\u001b[1;37m            ^\u001b[0m\n\u001b[1;31mSyntaxError\u001b[0m\u001b[1;31m:\u001b[0m invalid syntax\n"
     ]
    }
   ],
   "source": [
    "10. Why does this expression cause an error? How can you fix it?\n",
    "'I have eaten ' + 99 + ' burritos.'\n",
    "\n",
    "Ans:The expression causes an error because 99 is an integer number and string can be concatenated to other string with +operator.\n",
    "    The correct way is 'I have eaten'+str(99)+'burritos'"
   ]
  },
  {
   "cell_type": "code",
   "execution_count": 10,
   "id": "386720c0",
   "metadata": {},
   "outputs": [
    {
     "name": "stdout",
     "output_type": "stream",
     "text": [
      "I have eaten99burritos\n"
     ]
    }
   ],
   "source": [
    "print('I have eaten'+str(99)+'burritos')"
   ]
  },
  {
   "cell_type": "code",
   "execution_count": null,
   "id": "46bb5ca1",
   "metadata": {},
   "outputs": [],
   "source": []
  }
 ],
 "metadata": {
  "kernelspec": {
   "display_name": "Python 3 (ipykernel)",
   "language": "python",
   "name": "python3"
  },
  "language_info": {
   "codemirror_mode": {
    "name": "ipython",
    "version": 3
   },
   "file_extension": ".py",
   "mimetype": "text/x-python",
   "name": "python",
   "nbconvert_exporter": "python",
   "pygments_lexer": "ipython3",
   "version": "3.10.9"
  }
 },
 "nbformat": 4,
 "nbformat_minor": 5
}
